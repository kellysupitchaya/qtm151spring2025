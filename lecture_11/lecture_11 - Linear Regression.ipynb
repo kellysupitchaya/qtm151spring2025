{
 "cells": [
  {
   "attachments": {},
   "cell_type": "markdown",
   "metadata": {},
   "source": [
    "# <span style=\"color:darkblue\"> Lecture 11: Application 1 - Linear Regression </span>\n",
    "\n",
    "<font size = \"5\">\n",
    "\n",
    "We will fit statistical models to data\n",
    "\n",
    "- I will give an intro with minimal stats background\n",
    "- See the optional lecture file for advanced users\n",
    "\n",
    "The primary goal is to practice previous commands"
   ]
  },
  {
   "attachments": {},
   "cell_type": "markdown",
   "metadata": {},
   "source": [
    "# <span style=\"color:darkblue\"> I. Import Libraries </span>\n"
   ]
  },
  {
   "cell_type": "code",
   "execution_count": 32,
   "metadata": {},
   "outputs": [],
   "source": [
    "# The \"pandas\" library is used for processing datasets\n",
    "# The \"numpy\" is for numeric observations and random numbers\n",
    "# The \"matplotlib.pyplot\" library is for creating graphs\n",
    "\n",
    "import pandas as pd\n",
    "import numpy as np\n",
    "import matplotlib.pyplot as plt\n",
    "import statsmodels.api as sm\n",
    "import statsmodels.formula.api as smf\n"
   ]
  },
  {
   "attachments": {},
   "cell_type": "markdown",
   "metadata": {},
   "source": [
    "<font size = \"5\">\n",
    "\n",
    "Install the \"statsmodels\" library\n",
    "\n",
    "```conda install statsmodels```\n",
    "\n",
    "- In Windows, you can do this by opening the program  <br> \"anaconda\n",
    "prompt\" and typing the above command.\n",
    "- In Mac, you can open your terminal and <br>\n",
    "type the above command"
   ]
  },
  {
   "cell_type": "code",
   "execution_count": 33,
   "metadata": {},
   "outputs": [],
   "source": [
    "# We will \"alias\" two sublibraries in \"statsmodels\"\n",
    "# \"statsmodels.formula.api\" contains functions to estimate models\n",
    "# \"statsmodels.api\" contains general-use statistical options\n",
    "\n",
    "import statsmodels.api as sm\n",
    "import statsmodels.formula.api as smf\n"
   ]
  },
  {
   "attachments": {},
   "cell_type": "markdown",
   "metadata": {},
   "source": [
    "# <span style=\"color:darkblue\"> II. Generate simulated Data </span>\n",
    "\n",
    "<font size = \"5\">\n",
    "\n",
    "**pd.DataFrame() - create an empty dataset**"
   ]
  },
  {
   "cell_type": "code",
   "execution_count": 34,
   "metadata": {},
   "outputs": [],
   "source": [
    "dataset = pd.DataFrame()"
   ]
  },
  {
   "attachments": {},
   "cell_type": "markdown",
   "metadata": {},
   "source": [
    "<font size = \"5\">\n",
    "\n",
    "**np.random.seed() - an integer that initializes the random number generator**\n",
    "\n",
    "**np.random.normal(loc = #, scale = #, size = n)**\n",
    "\n",
    "Create two random variables of size ($n = 50$)"
   ]
  },
  {
   "cell_type": "code",
   "execution_count": 35,
   "metadata": {},
   "outputs": [],
   "source": [
    "n = 50\n",
    "np.random.seed(42)\n",
    "dataset[\"x\"] = np.random.normal(loc = 0,scale = 1, size = n)\n",
    "dataset[\"e\"] = np.random.normal(loc = 0,scale = 1, size = n)"
   ]
  },
  {
   "attachments": {},
   "cell_type": "markdown",
   "metadata": {},
   "source": [
    "<font size = \"5\">\n",
    "\n",
    "Create data from the linear model\n",
    "\n",
    "$ y = b_0 + b_1 x + e, \\qquad b_0 = 1, b_1 = 2.$"
   ]
  },
  {
   "cell_type": "code",
   "execution_count": 36,
   "metadata": {},
   "outputs": [],
   "source": [
    "# The number b0 is known as the \"intercept\"\n",
    "# The number b1 is known as the \"slope\"\n",
    "\n",
    "b0 = 1\n",
    "b1 = 2\n",
    "\n",
    "# We can compute formulas directly over dataset columns\n",
    "dataset[\"y\"] = b0 + b1 * dataset[\"x\"] + dataset[\"e\"]"
   ]
  },
  {
   "cell_type": "code",
   "execution_count": 37,
   "metadata": {},
   "outputs": [
    {
     "data": {
      "text/plain": [
       "0     2.317512\n",
       "1     0.338389\n",
       "2     1.618455\n",
       "3     4.657736\n",
       "4     1.562693\n",
       "5     1.463006\n",
       "6     3.319208\n",
       "7     2.225657\n",
       "8     0.392315\n",
       "9     3.060665\n",
       "10   -0.406010\n",
       "11   -0.117118\n",
       "12    0.377590\n",
       "13   -4.022767\n",
       "14   -1.637310\n",
       "15    1.231665\n",
       "16   -1.097672\n",
       "17    2.632028\n",
       "18   -0.454412\n",
       "19   -2.469727\n",
       "20    4.292693\n",
       "21    2.086484\n",
       "22    1.099230\n",
       "23   -0.284853\n",
       "24   -2.708511\n",
       "25    2.043748\n",
       "26   -1.214940\n",
       "27    1.452389\n",
       "28   -0.109517\n",
       "29   -1.570956\n",
       "30   -0.423085\n",
       "31    5.061669\n",
       "32    2.450900\n",
       "33   -1.633692\n",
       "34    1.836596\n",
       "35   -1.943444\n",
       "36    2.333129\n",
       "37   -2.590589\n",
       "38   -2.186132\n",
       "39    1.906990\n",
       "40    2.574011\n",
       "41    2.311382\n",
       "42    0.066650\n",
       "43    0.070130\n",
       "44   -2.349152\n",
       "45   -1.903203\n",
       "46    0.374843\n",
       "47    3.375300\n",
       "48    1.692350\n",
       "49   -2.760667\n",
       "Name: y, dtype: float64"
      ]
     },
     "execution_count": 37,
     "metadata": {},
     "output_type": "execute_result"
    }
   ],
   "source": [
    "dataset['y']"
   ]
  },
  {
   "attachments": {},
   "cell_type": "markdown",
   "metadata": {},
   "source": [
    "<font size = \"5\">\n",
    "\n",
    "Compute the theoretically best fit line\n",
    "\n",
    "$ p = b_0 + b_1 x$"
   ]
  },
  {
   "cell_type": "code",
   "execution_count": 38,
   "metadata": {},
   "outputs": [],
   "source": [
    "dataset[\"p\"] = b0 + b1*dataset[\"x\"]"
   ]
  },
  {
   "attachments": {},
   "cell_type": "markdown",
   "metadata": {},
   "source": [
    "<font size = \"5\">\n",
    "\n",
    "Plotting the Data"
   ]
  },
  {
   "cell_type": "code",
   "execution_count": 39,
   "metadata": {},
   "outputs": [
    {
     "data": {
      "image/png": "[encoded data removed]",
      "text/plain": [
       "<Figure size 640x480 with 1 Axes>"
      ]
     },
     "metadata": {},
     "output_type": "display_data"
    }
   ],
   "source": [
    "plt.scatter(x = dataset[\"x\"], y = dataset[\"y\"])\n",
    "plt.plot(dataset[\"x\"],dataset[\"p\"], color = 'green')\n",
    "\n",
    "plt.xlabel(\"X Variable\")\n",
    "plt.ylabel(\"Y Variable\")\n",
    "plt.legend(labels = [\"Data points\", \"Best fit line\"])\n",
    "plt.show()\n"
   ]
  },
  {
   "attachments": {},
   "cell_type": "markdown",
   "metadata": {},
   "source": [
    "<font size = \"5\" >\n",
    "\n",
    "Try it yourself!\n",
    "\n",
    "- Create a new dataset called $\\quad$```subset_above2``` \n",
    "- Subset records with $y \\ge 2$ using $\\quad$```.query()```\n",
    "- Count the original rows $\\quad$ ```len(dataset)```\n",
    "- Count the subsetted rows $\\quad$ ```len(subset_above2)```\n",
    "- Compute the proportion of subsetted observations\n",
    "\n",
    "\n",
    "\n"
   ]
  },
  {
   "cell_type": "code",
   "execution_count": 40,
   "metadata": {},
   "outputs": [
    {
     "name": "stdout",
     "output_type": "stream",
     "text": [
      "50\n",
      "15\n",
      "0.3\n"
     ]
    }
   ],
   "source": [
    "# Write your own code here\n",
    "\n",
    "subset_above2 = dataset.query(\"y >= 2\")\n",
    "\n",
    "print(len(dataset))\n",
    "print(len(subset_above2))\n",
    "\n",
    "print(len(subset_above2)/len(dataset))"
   ]
  },
  {
   "attachments": {},
   "cell_type": "markdown",
   "metadata": {},
   "source": [
    "<font size = \"5\">\n",
    "\n",
    "Try it yourself!\n",
    "\n",
    "- Store the sample mean of $y$ as $\\quad$ ```ybar```\n",
    "- Compute the standard deviation of $y$ $\\quad$ ```stdv_sample```\n",
    "- Use ```.query()``` to subset observations that satisfy\n",
    "\n",
    "$ \\qquad abs\\left(y - ybar \\right) \\le stdv\\_sample $\n",
    "\n",
    "$\\quad$ HINT: Use ```.mean()```,$\\text{ }$ ```.std()``` <br>\n",
    "$\\quad$ HINT: Use the globals  $\\ $ ```@xbar```,$\\text{ }$ ```@stdv_sample```"
   ]
  },
  {
   "cell_type": "code",
   "execution_count": 41,
   "metadata": {},
   "outputs": [
    {
     "data": {
      "text/plain": [
       "33"
      ]
     },
     "execution_count": 41,
     "metadata": {},
     "output_type": "execute_result"
    }
   ],
   "source": [
    "# Note: abs(...) is the absolute value function\n",
    "# Write your own code \n",
    "\n",
    "ybar = dataset[\"y\"].mean()\n",
    "\n",
    "stdv_sample = dataset[\"y\"].std()\n",
    "\n",
    "subset_threshold = dataset.query(\" (abs(y - @ybar) <= @stdv_sample)\")\n",
    "len(subset_threshold)\n",
    "\n",
    "#global variables are anything that are stored in jupyter\n",
    "#when we use .query(), it will shield itself and not see the global command; therefore we need to add the @ to make it know the global variable we stored \n"
   ]
  },
  {
   "attachments": {},
   "cell_type": "markdown",
   "metadata": {},
   "source": [
    "# <span style=\"color:darkblue\"> II. Estimate the best fit line</span>\n"
   ]
  },
  {
   "attachments": {},
   "cell_type": "markdown",
   "metadata": {},
   "source": [
    "<font size = \"5\">\n",
    "\n",
    "We have data on $(y,x)$ but we don't know $(b_0,b_1, e)$"
   ]
  },
  {
   "attachments": {},
   "cell_type": "markdown",
   "metadata": {},
   "source": [
    "<font size = \"5\">\n",
    "\n",
    "**smf.ols(formula = 'y ~ x', data = dataset).fit(cov = \"HCI)**\n",
    "\n",
    "Let's fit an OLS model\n",
    "\n",
    "- It's a statistical approach to get $(b_0,b_1)$\n",
    "- No need to know how it works but why we want it"
   ]
  },
  {
   "cell_type": "code",
   "execution_count": 42,
   "metadata": {},
   "outputs": [],
   "source": [
    "#------------------------------------------------------------------------------#\n",
    "# We use the subfunction \"ols()\" in the library \"smf\"\n",
    "#---- (i) The first argument is a string called \"formula\" with the format \n",
    "#-------- \"outcome ~ indepdent_vars\"\n",
    "#----(ii) the second argument is the dataset\n",
    "# The second line fits the model with standard errors \"cov\". In this case we \n",
    "# use \"robust\" standard errors (HC1)\n",
    "#-------------------------------------------------------------------------------#\n",
    "\n",
    "model = smf.ols(formula = 'y ~  x', data = dataset)\n",
    "results = model.fit()\n",
    "\n",
    "# Can also run as one line\n",
    "# results = smf.ols(formula = 'y ~ x',data = dataset).fit(cov = \"HC1\")\n"
   ]
  },
  {
   "attachments": {},
   "cell_type": "markdown",
   "metadata": {},
   "source": [
    "<font size = \"5\">\n",
    "\n",
    "**.params - get the attribute \"parameters from the results**\n",
    "\n",
    "Compute the estimated best fit line"
   ]
  },
  {
   "cell_type": "code",
   "execution_count": 43,
   "metadata": {},
   "outputs": [
    {
     "name": "stdout",
     "output_type": "stream",
     "text": [
      "Intercept    1.041022\n",
      "x            2.103076\n",
      "dtype: float64\n"
     ]
    },
    {
     "name": "stderr",
     "output_type": "stream",
     "text": [
      "/var/folders/yg/6msd46tn17s02dpyy6lqlyzc0000gn/T/ipykernel_34676/1095559853.py:9: FutureWarning: Series.__getitem__ treating keys as positions is deprecated. In a future version, integer keys will always be treated as labels (consistent with DataFrame behavior). To access a value by position, use `ser.iloc[pos]`\n",
      "  dataset[\"p_estimated\"] = b_list[0] + b_list[1] * dataset[\"x\"]\n"
     ]
    }
   ],
   "source": [
    "# We will use \".params\" to get the attribute \"parameters from the results\"\n",
    "\n",
    "b_list = results.params\n",
    "print(b_list)\n",
    "\n",
    "# We can then compute the \"estimated\" best fit lines\n",
    "# by extracting the intercept and slop from \"b_list\"\n",
    "\n",
    "dataset[\"p_estimated\"] = b_list[0] + b_list[1] * dataset[\"x\"]\n",
    "\n",
    "# Note: The estimators for \"b0\" and \"b1\" are close to \n",
    "# the values we used to generate the data\n"
   ]
  },
  {
   "attachments": {},
   "cell_type": "markdown",
   "metadata": {},
   "source": [
    "<font size = \"5\">\n",
    "\n",
    "Plot the best fit line"
   ]
  },
  {
   "cell_type": "code",
   "execution_count": 44,
   "metadata": {},
   "outputs": [
    {
     "data": {
      "image/png": "[encoded data removed]",
      "text/plain": [
       "<Figure size 640x480 with 1 Axes>"
      ]
     },
     "metadata": {},
     "output_type": "display_data"
    }
   ],
   "source": [
    "# Use scatter twice, with different \"y\" inputs\n",
    "# THe \"legend\" command creates a box on with the color labels\n",
    "\n",
    "plt.scatter(x = dataset[\"x\"],y = dataset[\"y\"])\n",
    "plt.plot(dataset[\"x\"],dataset[\"p_estimated\"], color = 'green')\n",
    "\n",
    "plt.legend(labels = [\"Data points\",\"Estimated Predicted Model\"])\n",
    "plt.show()"
   ]
  },
  {
   "attachments": {},
   "cell_type": "markdown",
   "metadata": {},
   "source": [
    "<font size = \"5\">\n",
    "\n",
    "Try it yourself!\n",
    "- How good is the estimated fit?\n",
    "- Create two overlapping lineplots\n",
    "- $(p \\text{ }$ vs $\\text{ } x)$ and $(p_{estimated} \\text{ }$ vs $\\text{ } x)$\n",
    "- Create a legend to label each plot"
   ]
  },
  {
   "cell_type": "code",
   "execution_count": 45,
   "metadata": {},
   "outputs": [
    {
     "data": {
      "image/png": "[encoded data removed]",
      "text/plain": [
       "<Figure size 640x480 with 1 Axes>"
      ]
     },
     "metadata": {},
     "output_type": "display_data"
    }
   ],
   "source": [
    "# Write your own code\n",
    "\n",
    "plt.plot(dataset[\"p\"], dataset[\"x\"], color = \"blue\") \n",
    "plt.plot(dataset[\"p_estimated\"], dataset[\"x\"], color = \"purple\")\n",
    "plt.legend(labels = [\"p\",\"p'estimated\"])\n",
    "plt.show()"
   ]
  },
  {
   "attachments": {},
   "cell_type": "markdown",
   "metadata": {},
   "source": [
    "<font size = \"5\">\n",
    "\n",
    "Try it youself\n",
    "\n",
    "- Compute a column with the formula\n",
    "\n",
    "$\\quad$ ``` sample_error = y - p_estimated```\n",
    "\n",
    "- Create a lambda function <br>\n",
    "\n",
    "$\\quad$ ``` fn_positive_error = lambda error: error >= 0  ```\n",
    "\n",
    "- Compute a column for whether the error is positive <br>\n",
    "using ``` .apply()```\n",
    "\n"
   ]
  },
  {
   "cell_type": "code",
   "execution_count": 48,
   "metadata": {},
   "outputs": [
    {
     "data": {
      "application/vnd.microsoft.datawrangler.viewer.v0+json": {
       "columns": [
        {
         "name": "index",
         "rawType": "int64",
         "type": "integer"
        },
        {
         "name": "x",
         "rawType": "float64",
         "type": "float"
        },
        {
         "name": "e",
         "rawType": "float64",
         "type": "float"
        },
        {
         "name": "y",
         "rawType": "float64",
         "type": "float"
        },
        {
         "name": "p",
         "rawType": "float64",
         "type": "float"
        },
        {
         "name": "p_estimated",
         "rawType": "float64",
         "type": "float"
        },
        {
         "name": "sample_error",
         "rawType": "bool",
         "type": "boolean"
        }
       ],
       "conversionMethod": "pd.DataFrame",
       "ref": "0fafd406-f908-4671-a3ea-4472759152ca",
       "rows": [
        [
         "0",
         "0.4967141530112327",
         "0.324083969394795",
         "2.3175122754172603",
         "1.9934283060224653",
         "2.085649176740409",
         "True"
        ],
        [
         "1",
         "-0.13826430117118466",
         "-0.38508228041631654",
         "0.33838911724131415",
         "0.7234713976576307",
         "0.7502414543570207",
         "False"
        ],
        [
         "2",
         "0.6476885381006925",
         "-0.6769220003059587",
         "1.6184550758954264",
         "2.295377076201385",
         "2.4031597291104725",
         "False"
        ],
        [
         "3",
         "1.5230298564080254",
         "0.6116762888408679",
         "4.657736001656919",
         "4.046059712816051",
         "4.244068737108174",
         "True"
        ],
        [
         "4",
         "-0.23415337472333597",
         "1.030999522495951",
         "1.562692773049279",
         "0.5316932505533281",
         "0.548579479103692",
         "True"
        ],
        [
         "5",
         "-0.23413695694918055",
         "0.9312801191161986",
         "1.4630062052178374",
         "0.5317260861016389",
         "0.5486140069246709",
         "True"
        ],
        [
         "6",
         "1.5792128155073915",
         "-0.8392175232226385",
         "3.3192081077921443",
         "4.158425631014783",
         "4.362225750079972",
         "False"
        ],
        [
         "7",
         "0.7674347291529088",
         "-0.3092123758512146",
         "2.225657082454603",
         "2.534869458305818",
         "2.6549950271490843",
         "False"
        ],
        [
         "8",
         "-0.4694743859349521",
         "0.33126343140356396",
         "0.39231465953365974",
         "0.06105122813009578",
         "0.05368159155933405",
         "True"
        ],
        [
         "9",
         "0.5425600435859647",
         "0.9755451271223592",
         "3.0606652142942883",
         "2.085120087171929",
         "2.1820665526525893",
         "True"
        ],
        [
         "10",
         "-0.46341769281246226",
         "-0.47917423784528995",
         "-0.40600962347021446",
         "0.07316461437507549",
         "0.06641927535727243",
         "False"
        ],
        [
         "11",
         "-0.46572975357025687",
         "-0.18565897666381712",
         "-0.11711848380433085",
         "0.06854049285948627",
         "0.061556836686728955",
         "False"
        ],
        [
         "12",
         "0.24196227156603412",
         "-1.1063349740060282",
         "0.37758956912604",
         "1.4839245431320682",
         "1.5498866992376952",
         "False"
        ],
        [
         "13",
         "-1.913280244657798",
         "-1.1962066240806708",
         "-4.022767113396267",
         "-2.826560489315596",
         "-2.9827513466943",
         "False"
        ],
        [
         "14",
         "-1.7249178325130328",
         "0.812525822394198",
         "-1.6373098426318675",
         "-2.4498356650260655",
         "-2.586610945192395",
         "True"
        ],
        [
         "15",
         "-0.5622875292409727",
         "1.356240028570823",
         "1.2316649700888775",
         "-0.12457505848194539",
         "-0.14151146970622097",
         "True"
        ],
        [
         "16",
         "-1.0128311203344238",
         "-0.07201012158033385",
         "-1.0976723622491815",
         "-1.0256622406688476",
         "-1.0890387233533074",
         "False"
        ],
        [
         "17",
         "0.3142473325952739",
         "1.0035328978920242",
         "2.632027563082572",
         "1.6284946651905479",
         "1.7019076506189368",
         "True"
        ],
        [
         "18",
         "-0.9080240755212111",
         "0.36163602504763415",
         "-0.4544121259947881",
         "-0.8160481510424222",
         "-0.8686215799339212",
         "True"
        ],
        [
         "19",
         "-1.4123037013352917",
         "-0.6451197546051243",
         "-2.469727157275708",
         "-1.8246074026705834",
         "-1.9291597794855995",
         "False"
        ],
        [
         "20",
         "1.465648768921554",
         "0.36139560550841393",
         "4.292693143351522",
         "3.931297537843108",
         "4.123391969505321",
         "True"
        ],
        [
         "21",
         "-0.22577630048653566",
         "1.5380365664659692",
         "2.086483965492898",
         "0.5484473990269287",
         "0.5661970999113237",
         "True"
        ],
        [
         "22",
         "0.06752820468792384",
         "-0.03582603910995153",
         "1.099230370265896",
         "1.1350564093758477",
         "1.183038661447661",
         "False"
        ],
        [
         "23",
         "-1.4247481862134568",
         "1.564643655814006",
         "-0.28485271661290756",
         "-1.8494963724269136",
         "-1.955331472553174",
         "True"
        ],
        [
         "24",
         "-0.5443827245251827",
         "-2.6197451040897444",
         "-2.7085105531401097",
         "-0.08876544905036532",
         "-0.10385631097171122",
         "False"
        ],
        [
         "25",
         "0.11092258970986608",
         "0.8219025043752238",
         "2.043747683794956",
         "1.2218451794197323",
         "1.2743003357370566",
         "True"
        ],
        [
         "26",
         "-1.1509935774223028",
         "0.08704706823817134",
         "-1.2149400866064342",
         "-1.3019871548446056",
         "-1.3796048219718489",
         "True"
        ],
        [
         "27",
         "0.37569801834567196",
         "-0.29900735046586785",
         "1.452388686225476",
         "1.751396036691344",
         "1.8311430912174642",
         "False"
        ],
        [
         "28",
         "-0.600638689918805",
         "0.0917607765355023",
         "-0.10951660330210766",
         "-0.20127737983760996",
         "-0.222166861702924",
         "True"
        ],
        [
         "29",
         "-0.2916937497932768",
         "-1.9875689146008928",
         "-1.5709564141874464",
         "0.41661250041344644",
         "0.4275677176634196",
         "False"
        ],
        [
         "30",
         "-0.6017066122293969",
         "-0.21967188783751193",
         "-0.42308511229630574",
         "-0.20341322445879384",
         "-0.224412783105574",
         "False"
        ],
        [
         "31",
         "1.8522781845089378",
         "0.3571125715117464",
         "5.061668940529622",
         "4.704556369017876",
         "4.93650287724589",
         "True"
        ],
        [
         "32",
         "-0.013497224737933914",
         "1.477894044741516",
         "2.450899595265648",
         "0.9730055505241322",
         "1.0126360541591366",
         "True"
        ],
        [
         "33",
         "-1.0577109289559",
         "-0.5182702182736474",
         "-1.6336920761854472",
         "-1.1154218579117998",
         "-1.1834243558380755",
         "False"
        ],
        [
         "34",
         "0.822544912103189",
         "-0.8084936028931876",
         "1.8365962213131906",
         "2.6450898242063783",
         "2.770895910728708",
         "False"
        ],
        [
         "35",
         "-1.2208436499710222",
         "-0.5017570435845365",
         "-1.943444343526581",
         "-1.4416872999420445",
         "-1.5265048083827306",
         "False"
        ],
        [
         "36",
         "0.2088635950047554",
         "0.9154021177020741",
         "2.3331293077115847",
         "1.4177271900095108",
         "1.4802776786646856",
         "True"
        ],
        [
         "37",
         "-1.9596701238797756",
         "0.32875110965968446",
         "-2.5905891380998667",
         "-2.919340247759551",
         "-3.080312771881909",
         "True"
        ],
        [
         "38",
         "-1.3281860488984305",
         "-0.5297602037670388",
         "-2.1861323015639",
         "-1.656372097796861",
         "-1.7522539932923005",
         "False"
        ],
        [
         "39",
         "0.19686123586912352",
         "0.5132674331133561",
         "1.9069899048516032",
         "1.393722471738247",
         "1.4550358094784641",
         "True"
        ],
        [
         "40",
         "0.7384665799954104",
         "0.09707754934804039",
         "2.5740107093388613",
         "2.476933159990821",
         "2.594072818161874",
         "False"
        ],
        [
         "41",
         "0.1713682811899705",
         "0.9686449905328892",
         "2.31138155291283",
         "1.342736562379941",
         "1.4014221973619017",
         "True"
        ],
        [
         "42",
         "-0.11564828238824053",
         "-0.7020530938773524",
         "0.06665034134616654",
         "0.7687034352235189",
         "0.7978046526567145",
         "False"
        ],
        [
         "43",
         "-0.3011036955892888",
         "-0.3276621465977682",
         "0.07013046222365421",
         "0.3977926088214224",
         "0.4077778898347205",
         "False"
        ],
        [
         "44",
         "-1.4785219903674274",
         "-0.39210815313215763",
         "-2.3491521338670123",
         "-1.9570439807348547",
         "-2.068421850433168",
         "False"
        ],
        [
         "45",
         "-0.7198442083947086",
         "-1.4635149481321186",
         "-1.9032033649215359",
         "-0.4396884167894173",
         "-0.47286508441412445",
         "False"
        ],
        [
         "46",
         "-0.4606387709597875",
         "0.29612027706457605",
         "0.37484273514500105",
         "0.078722458080425",
         "0.07226355822627151",
         "True"
        ],
        [
         "47",
         "1.0571222262189157",
         "0.26105527217988933",
         "3.3752997246177205",
         "3.1142444524378314",
         "3.264229747023101",
         "True"
        ],
        [
         "48",
         "0.3436182895684614",
         "0.0051134566424609",
         "1.6923500357793837",
         "1.6872365791369228",
         "1.7636769949131246",
         "False"
        ],
        [
         "49",
         "-1.763040155362734",
         "-0.23458713337514742",
         "-2.760667444100615",
         "-2.526080310725468",
         "-2.666785073925995",
         "False"
        ]
       ],
       "shape": {
        "columns": 6,
        "rows": 50
       }
      },
      "text/html": [
       "<div>\n",
       "<style scoped>\n",
       "    .dataframe tbody tr th:only-of-type {\n",
       "        vertical-align: middle;\n",
       "    }\n",
       "\n",
       "    .dataframe tbody tr th {\n",
       "        vertical-align: top;\n",
       "    }\n",
       "\n",
       "    .dataframe thead th {\n",
       "        text-align: right;\n",
       "    }\n",
       "</style>\n",
       "<table border=\"1\" class=\"dataframe\">\n",
       "  <thead>\n",
       "    <tr style=\"text-align: right;\">\n",
       "      <th></th>\n",
       "      <th>x</th>\n",
       "      <th>e</th>\n",
       "      <th>y</th>\n",
       "      <th>p</th>\n",
       "      <th>p_estimated</th>\n",
       "      <th>sample_error</th>\n",
       "    </tr>\n",
       "  </thead>\n",
       "  <tbody>\n",
       "    <tr>\n",
       "      <th>0</th>\n",
       "      <td>0.496714</td>\n",
       "      <td>0.324084</td>\n",
       "      <td>2.317512</td>\n",
       "      <td>1.993428</td>\n",
       "      <td>2.085649</td>\n",
       "      <td>True</td>\n",
       "    </tr>\n",
       "    <tr>\n",
       "      <th>1</th>\n",
       "      <td>-0.138264</td>\n",
       "      <td>-0.385082</td>\n",
       "      <td>0.338389</td>\n",
       "      <td>0.723471</td>\n",
       "      <td>0.750241</td>\n",
       "      <td>False</td>\n",
       "    </tr>\n",
       "    <tr>\n",
       "      <th>2</th>\n",
       "      <td>0.647689</td>\n",
       "      <td>-0.676922</td>\n",
       "      <td>1.618455</td>\n",
       "      <td>2.295377</td>\n",
       "      <td>2.403160</td>\n",
       "      <td>False</td>\n",
       "    </tr>\n",
       "    <tr>\n",
       "      <th>3</th>\n",
       "      <td>1.523030</td>\n",
       "      <td>0.611676</td>\n",
       "      <td>4.657736</td>\n",
       "      <td>4.046060</td>\n",
       "      <td>4.244069</td>\n",
       "      <td>True</td>\n",
       "    </tr>\n",
       "    <tr>\n",
       "      <th>4</th>\n",
       "      <td>-0.234153</td>\n",
       "      <td>1.031000</td>\n",
       "      <td>1.562693</td>\n",
       "      <td>0.531693</td>\n",
       "      <td>0.548579</td>\n",
       "      <td>True</td>\n",
       "    </tr>\n",
       "    <tr>\n",
       "      <th>5</th>\n",
       "      <td>-0.234137</td>\n",
       "      <td>0.931280</td>\n",
       "      <td>1.463006</td>\n",
       "      <td>0.531726</td>\n",
       "      <td>0.548614</td>\n",
       "      <td>True</td>\n",
       "    </tr>\n",
       "    <tr>\n",
       "      <th>6</th>\n",
       "      <td>1.579213</td>\n",
       "      <td>-0.839218</td>\n",
       "      <td>3.319208</td>\n",
       "      <td>4.158426</td>\n",
       "      <td>4.362226</td>\n",
       "      <td>False</td>\n",
       "    </tr>\n",
       "    <tr>\n",
       "      <th>7</th>\n",
       "      <td>0.767435</td>\n",
       "      <td>-0.309212</td>\n",
       "      <td>2.225657</td>\n",
       "      <td>2.534869</td>\n",
       "      <td>2.654995</td>\n",
       "      <td>False</td>\n",
       "    </tr>\n",
       "    <tr>\n",
       "      <th>8</th>\n",
       "      <td>-0.469474</td>\n",
       "      <td>0.331263</td>\n",
       "      <td>0.392315</td>\n",
       "      <td>0.061051</td>\n",
       "      <td>0.053682</td>\n",
       "      <td>True</td>\n",
       "    </tr>\n",
       "    <tr>\n",
       "      <th>9</th>\n",
       "      <td>0.542560</td>\n",
       "      <td>0.975545</td>\n",
       "      <td>3.060665</td>\n",
       "      <td>2.085120</td>\n",
       "      <td>2.182067</td>\n",
       "      <td>True</td>\n",
       "    </tr>\n",
       "    <tr>\n",
       "      <th>10</th>\n",
       "      <td>-0.463418</td>\n",
       "      <td>-0.479174</td>\n",
       "      <td>-0.406010</td>\n",
       "      <td>0.073165</td>\n",
       "      <td>0.066419</td>\n",
       "      <td>False</td>\n",
       "    </tr>\n",
       "    <tr>\n",
       "      <th>11</th>\n",
       "      <td>-0.465730</td>\n",
       "      <td>-0.185659</td>\n",
       "      <td>-0.117118</td>\n",
       "      <td>0.068540</td>\n",
       "      <td>0.061557</td>\n",
       "      <td>False</td>\n",
       "    </tr>\n",
       "    <tr>\n",
       "      <th>12</th>\n",
       "      <td>0.241962</td>\n",
       "      <td>-1.106335</td>\n",
       "      <td>0.377590</td>\n",
       "      <td>1.483925</td>\n",
       "      <td>1.549887</td>\n",
       "      <td>False</td>\n",
       "    </tr>\n",
       "    <tr>\n",
       "      <th>13</th>\n",
       "      <td>-1.913280</td>\n",
       "      <td>-1.196207</td>\n",
       "      <td>-4.022767</td>\n",
       "      <td>-2.826560</td>\n",
       "      <td>-2.982751</td>\n",
       "      <td>False</td>\n",
       "    </tr>\n",
       "    <tr>\n",
       "      <th>14</th>\n",
       "      <td>-1.724918</td>\n",
       "      <td>0.812526</td>\n",
       "      <td>-1.637310</td>\n",
       "      <td>-2.449836</td>\n",
       "      <td>-2.586611</td>\n",
       "      <td>True</td>\n",
       "    </tr>\n",
       "    <tr>\n",
       "      <th>15</th>\n",
       "      <td>-0.562288</td>\n",
       "      <td>1.356240</td>\n",
       "      <td>1.231665</td>\n",
       "      <td>-0.124575</td>\n",
       "      <td>-0.141511</td>\n",
       "      <td>True</td>\n",
       "    </tr>\n",
       "    <tr>\n",
       "      <th>16</th>\n",
       "      <td>-1.012831</td>\n",
       "      <td>-0.072010</td>\n",
       "      <td>-1.097672</td>\n",
       "      <td>-1.025662</td>\n",
       "      <td>-1.089039</td>\n",
       "      <td>False</td>\n",
       "    </tr>\n",
       "    <tr>\n",
       "      <th>17</th>\n",
       "      <td>0.314247</td>\n",
       "      <td>1.003533</td>\n",
       "      <td>2.632028</td>\n",
       "      <td>1.628495</td>\n",
       "      <td>1.701908</td>\n",
       "      <td>True</td>\n",
       "    </tr>\n",
       "    <tr>\n",
       "      <th>18</th>\n",
       "      <td>-0.908024</td>\n",
       "      <td>0.361636</td>\n",
       "      <td>-0.454412</td>\n",
       "      <td>-0.816048</td>\n",
       "      <td>-0.868622</td>\n",
       "      <td>True</td>\n",
       "    </tr>\n",
       "    <tr>\n",
       "      <th>19</th>\n",
       "      <td>-1.412304</td>\n",
       "      <td>-0.645120</td>\n",
       "      <td>-2.469727</td>\n",
       "      <td>-1.824607</td>\n",
       "      <td>-1.929160</td>\n",
       "      <td>False</td>\n",
       "    </tr>\n",
       "    <tr>\n",
       "      <th>20</th>\n",
       "      <td>1.465649</td>\n",
       "      <td>0.361396</td>\n",
       "      <td>4.292693</td>\n",
       "      <td>3.931298</td>\n",
       "      <td>4.123392</td>\n",
       "      <td>True</td>\n",
       "    </tr>\n",
       "    <tr>\n",
       "      <th>21</th>\n",
       "      <td>-0.225776</td>\n",
       "      <td>1.538037</td>\n",
       "      <td>2.086484</td>\n",
       "      <td>0.548447</td>\n",
       "      <td>0.566197</td>\n",
       "      <td>True</td>\n",
       "    </tr>\n",
       "    <tr>\n",
       "      <th>22</th>\n",
       "      <td>0.067528</td>\n",
       "      <td>-0.035826</td>\n",
       "      <td>1.099230</td>\n",
       "      <td>1.135056</td>\n",
       "      <td>1.183039</td>\n",
       "      <td>False</td>\n",
       "    </tr>\n",
       "    <tr>\n",
       "      <th>23</th>\n",
       "      <td>-1.424748</td>\n",
       "      <td>1.564644</td>\n",
       "      <td>-0.284853</td>\n",
       "      <td>-1.849496</td>\n",
       "      <td>-1.955331</td>\n",
       "      <td>True</td>\n",
       "    </tr>\n",
       "    <tr>\n",
       "      <th>24</th>\n",
       "      <td>-0.544383</td>\n",
       "      <td>-2.619745</td>\n",
       "      <td>-2.708511</td>\n",
       "      <td>-0.088765</td>\n",
       "      <td>-0.103856</td>\n",
       "      <td>False</td>\n",
       "    </tr>\n",
       "    <tr>\n",
       "      <th>25</th>\n",
       "      <td>0.110923</td>\n",
       "      <td>0.821903</td>\n",
       "      <td>2.043748</td>\n",
       "      <td>1.221845</td>\n",
       "      <td>1.274300</td>\n",
       "      <td>True</td>\n",
       "    </tr>\n",
       "    <tr>\n",
       "      <th>26</th>\n",
       "      <td>-1.150994</td>\n",
       "      <td>0.087047</td>\n",
       "      <td>-1.214940</td>\n",
       "      <td>-1.301987</td>\n",
       "      <td>-1.379605</td>\n",
       "      <td>True</td>\n",
       "    </tr>\n",
       "    <tr>\n",
       "      <th>27</th>\n",
       "      <td>0.375698</td>\n",
       "      <td>-0.299007</td>\n",
       "      <td>1.452389</td>\n",
       "      <td>1.751396</td>\n",
       "      <td>1.831143</td>\n",
       "      <td>False</td>\n",
       "    </tr>\n",
       "    <tr>\n",
       "      <th>28</th>\n",
       "      <td>-0.600639</td>\n",
       "      <td>0.091761</td>\n",
       "      <td>-0.109517</td>\n",
       "      <td>-0.201277</td>\n",
       "      <td>-0.222167</td>\n",
       "      <td>True</td>\n",
       "    </tr>\n",
       "    <tr>\n",
       "      <th>29</th>\n",
       "      <td>-0.291694</td>\n",
       "      <td>-1.987569</td>\n",
       "      <td>-1.570956</td>\n",
       "      <td>0.416613</td>\n",
       "      <td>0.427568</td>\n",
       "      <td>False</td>\n",
       "    </tr>\n",
       "    <tr>\n",
       "      <th>30</th>\n",
       "      <td>-0.601707</td>\n",
       "      <td>-0.219672</td>\n",
       "      <td>-0.423085</td>\n",
       "      <td>-0.203413</td>\n",
       "      <td>-0.224413</td>\n",
       "      <td>False</td>\n",
       "    </tr>\n",
       "    <tr>\n",
       "      <th>31</th>\n",
       "      <td>1.852278</td>\n",
       "      <td>0.357113</td>\n",
       "      <td>5.061669</td>\n",
       "      <td>4.704556</td>\n",
       "      <td>4.936503</td>\n",
       "      <td>True</td>\n",
       "    </tr>\n",
       "    <tr>\n",
       "      <th>32</th>\n",
       "      <td>-0.013497</td>\n",
       "      <td>1.477894</td>\n",
       "      <td>2.450900</td>\n",
       "      <td>0.973006</td>\n",
       "      <td>1.012636</td>\n",
       "      <td>True</td>\n",
       "    </tr>\n",
       "    <tr>\n",
       "      <th>33</th>\n",
       "      <td>-1.057711</td>\n",
       "      <td>-0.518270</td>\n",
       "      <td>-1.633692</td>\n",
       "      <td>-1.115422</td>\n",
       "      <td>-1.183424</td>\n",
       "      <td>False</td>\n",
       "    </tr>\n",
       "    <tr>\n",
       "      <th>34</th>\n",
       "      <td>0.822545</td>\n",
       "      <td>-0.808494</td>\n",
       "      <td>1.836596</td>\n",
       "      <td>2.645090</td>\n",
       "      <td>2.770896</td>\n",
       "      <td>False</td>\n",
       "    </tr>\n",
       "    <tr>\n",
       "      <th>35</th>\n",
       "      <td>-1.220844</td>\n",
       "      <td>-0.501757</td>\n",
       "      <td>-1.943444</td>\n",
       "      <td>-1.441687</td>\n",
       "      <td>-1.526505</td>\n",
       "      <td>False</td>\n",
       "    </tr>\n",
       "    <tr>\n",
       "      <th>36</th>\n",
       "      <td>0.208864</td>\n",
       "      <td>0.915402</td>\n",
       "      <td>2.333129</td>\n",
       "      <td>1.417727</td>\n",
       "      <td>1.480278</td>\n",
       "      <td>True</td>\n",
       "    </tr>\n",
       "    <tr>\n",
       "      <th>37</th>\n",
       "      <td>-1.959670</td>\n",
       "      <td>0.328751</td>\n",
       "      <td>-2.590589</td>\n",
       "      <td>-2.919340</td>\n",
       "      <td>-3.080313</td>\n",
       "      <td>True</td>\n",
       "    </tr>\n",
       "    <tr>\n",
       "      <th>38</th>\n",
       "      <td>-1.328186</td>\n",
       "      <td>-0.529760</td>\n",
       "      <td>-2.186132</td>\n",
       "      <td>-1.656372</td>\n",
       "      <td>-1.752254</td>\n",
       "      <td>False</td>\n",
       "    </tr>\n",
       "    <tr>\n",
       "      <th>39</th>\n",
       "      <td>0.196861</td>\n",
       "      <td>0.513267</td>\n",
       "      <td>1.906990</td>\n",
       "      <td>1.393722</td>\n",
       "      <td>1.455036</td>\n",
       "      <td>True</td>\n",
       "    </tr>\n",
       "    <tr>\n",
       "      <th>40</th>\n",
       "      <td>0.738467</td>\n",
       "      <td>0.097078</td>\n",
       "      <td>2.574011</td>\n",
       "      <td>2.476933</td>\n",
       "      <td>2.594073</td>\n",
       "      <td>False</td>\n",
       "    </tr>\n",
       "    <tr>\n",
       "      <th>41</th>\n",
       "      <td>0.171368</td>\n",
       "      <td>0.968645</td>\n",
       "      <td>2.311382</td>\n",
       "      <td>1.342737</td>\n",
       "      <td>1.401422</td>\n",
       "      <td>True</td>\n",
       "    </tr>\n",
       "    <tr>\n",
       "      <th>42</th>\n",
       "      <td>-0.115648</td>\n",
       "      <td>-0.702053</td>\n",
       "      <td>0.066650</td>\n",
       "      <td>0.768703</td>\n",
       "      <td>0.797805</td>\n",
       "      <td>False</td>\n",
       "    </tr>\n",
       "    <tr>\n",
       "      <th>43</th>\n",
       "      <td>-0.301104</td>\n",
       "      <td>-0.327662</td>\n",
       "      <td>0.070130</td>\n",
       "      <td>0.397793</td>\n",
       "      <td>0.407778</td>\n",
       "      <td>False</td>\n",
       "    </tr>\n",
       "    <tr>\n",
       "      <th>44</th>\n",
       "      <td>-1.478522</td>\n",
       "      <td>-0.392108</td>\n",
       "      <td>-2.349152</td>\n",
       "      <td>-1.957044</td>\n",
       "      <td>-2.068422</td>\n",
       "      <td>False</td>\n",
       "    </tr>\n",
       "    <tr>\n",
       "      <th>45</th>\n",
       "      <td>-0.719844</td>\n",
       "      <td>-1.463515</td>\n",
       "      <td>-1.903203</td>\n",
       "      <td>-0.439688</td>\n",
       "      <td>-0.472865</td>\n",
       "      <td>False</td>\n",
       "    </tr>\n",
       "    <tr>\n",
       "      <th>46</th>\n",
       "      <td>-0.460639</td>\n",
       "      <td>0.296120</td>\n",
       "      <td>0.374843</td>\n",
       "      <td>0.078722</td>\n",
       "      <td>0.072264</td>\n",
       "      <td>True</td>\n",
       "    </tr>\n",
       "    <tr>\n",
       "      <th>47</th>\n",
       "      <td>1.057122</td>\n",
       "      <td>0.261055</td>\n",
       "      <td>3.375300</td>\n",
       "      <td>3.114244</td>\n",
       "      <td>3.264230</td>\n",
       "      <td>True</td>\n",
       "    </tr>\n",
       "    <tr>\n",
       "      <th>48</th>\n",
       "      <td>0.343618</td>\n",
       "      <td>0.005113</td>\n",
       "      <td>1.692350</td>\n",
       "      <td>1.687237</td>\n",
       "      <td>1.763677</td>\n",
       "      <td>False</td>\n",
       "    </tr>\n",
       "    <tr>\n",
       "      <th>49</th>\n",
       "      <td>-1.763040</td>\n",
       "      <td>-0.234587</td>\n",
       "      <td>-2.760667</td>\n",
       "      <td>-2.526080</td>\n",
       "      <td>-2.666785</td>\n",
       "      <td>False</td>\n",
       "    </tr>\n",
       "  </tbody>\n",
       "</table>\n",
       "</div>"
      ],
      "text/plain": [
       "           x         e         y         p  p_estimated  sample_error\n",
       "0   0.496714  0.324084  2.317512  1.993428     2.085649          True\n",
       "1  -0.138264 -0.385082  0.338389  0.723471     0.750241         False\n",
       "2   0.647689 -0.676922  1.618455  2.295377     2.403160         False\n",
       "3   1.523030  0.611676  4.657736  4.046060     4.244069          True\n",
       "4  -0.234153  1.031000  1.562693  0.531693     0.548579          True\n",
       "5  -0.234137  0.931280  1.463006  0.531726     0.548614          True\n",
       "6   1.579213 -0.839218  3.319208  4.158426     4.362226         False\n",
       "7   0.767435 -0.309212  2.225657  2.534869     2.654995         False\n",
       "8  -0.469474  0.331263  0.392315  0.061051     0.053682          True\n",
       "9   0.542560  0.975545  3.060665  2.085120     2.182067          True\n",
       "10 -0.463418 -0.479174 -0.406010  0.073165     0.066419         False\n",
       "11 -0.465730 -0.185659 -0.117118  0.068540     0.061557         False\n",
       "12  0.241962 -1.106335  0.377590  1.483925     1.549887         False\n",
       "13 -1.913280 -1.196207 -4.022767 -2.826560    -2.982751         False\n",
       "14 -1.724918  0.812526 -1.637310 -2.449836    -2.586611          True\n",
       "15 -0.562288  1.356240  1.231665 -0.124575    -0.141511          True\n",
       "16 -1.012831 -0.072010 -1.097672 -1.025662    -1.089039         False\n",
       "17  0.314247  1.003533  2.632028  1.628495     1.701908          True\n",
       "18 -0.908024  0.361636 -0.454412 -0.816048    -0.868622          True\n",
       "19 -1.412304 -0.645120 -2.469727 -1.824607    -1.929160         False\n",
       "20  1.465649  0.361396  4.292693  3.931298     4.123392          True\n",
       "21 -0.225776  1.538037  2.086484  0.548447     0.566197          True\n",
       "22  0.067528 -0.035826  1.099230  1.135056     1.183039         False\n",
       "23 -1.424748  1.564644 -0.284853 -1.849496    -1.955331          True\n",
       "24 -0.544383 -2.619745 -2.708511 -0.088765    -0.103856         False\n",
       "25  0.110923  0.821903  2.043748  1.221845     1.274300          True\n",
       "26 -1.150994  0.087047 -1.214940 -1.301987    -1.379605          True\n",
       "27  0.375698 -0.299007  1.452389  1.751396     1.831143         False\n",
       "28 -0.600639  0.091761 -0.109517 -0.201277    -0.222167          True\n",
       "29 -0.291694 -1.987569 -1.570956  0.416613     0.427568         False\n",
       "30 -0.601707 -0.219672 -0.423085 -0.203413    -0.224413         False\n",
       "31  1.852278  0.357113  5.061669  4.704556     4.936503          True\n",
       "32 -0.013497  1.477894  2.450900  0.973006     1.012636          True\n",
       "33 -1.057711 -0.518270 -1.633692 -1.115422    -1.183424         False\n",
       "34  0.822545 -0.808494  1.836596  2.645090     2.770896         False\n",
       "35 -1.220844 -0.501757 -1.943444 -1.441687    -1.526505         False\n",
       "36  0.208864  0.915402  2.333129  1.417727     1.480278          True\n",
       "37 -1.959670  0.328751 -2.590589 -2.919340    -3.080313          True\n",
       "38 -1.328186 -0.529760 -2.186132 -1.656372    -1.752254         False\n",
       "39  0.196861  0.513267  1.906990  1.393722     1.455036          True\n",
       "40  0.738467  0.097078  2.574011  2.476933     2.594073         False\n",
       "41  0.171368  0.968645  2.311382  1.342737     1.401422          True\n",
       "42 -0.115648 -0.702053  0.066650  0.768703     0.797805         False\n",
       "43 -0.301104 -0.327662  0.070130  0.397793     0.407778         False\n",
       "44 -1.478522 -0.392108 -2.349152 -1.957044    -2.068422         False\n",
       "45 -0.719844 -1.463515 -1.903203 -0.439688    -0.472865         False\n",
       "46 -0.460639  0.296120  0.374843  0.078722     0.072264          True\n",
       "47  1.057122  0.261055  3.375300  3.114244     3.264230          True\n",
       "48  0.343618  0.005113  1.692350  1.687237     1.763677         False\n",
       "49 -1.763040 -0.234587 -2.760667 -2.526080    -2.666785         False"
      ]
     },
     "metadata": {},
     "output_type": "display_data"
    }
   ],
   "source": [
    "# Write your own code\n",
    "\n",
    "dataset['sample_error'] = dataset['y'] - dataset['p_estimated']\n",
    "\n",
    "positive_error = lambda error: error >= 0\n",
    "\n",
    "# allows you to apply a function (positive_error) to each element of a column (in this case, 'sample_error').\n",
    "dataset['sample_error'] = dataset['sample_error'].apply(positive_error)\n",
    "\n",
    "display(dataset)\n"
   ]
  },
  {
   "attachments": {},
   "cell_type": "markdown",
   "metadata": {},
   "source": [
    "<font size = \"5\">\n",
    "\n",
    "Try it yourself\n",
    "\n",
    "- Compute a new column <br>\n",
    "\n",
    "```error_sqr = sample_error ** 2```\n",
    "\n",
    "- Calculate the mean of ```error_sqr```"
   ]
  },
  {
   "cell_type": "code",
   "execution_count": 49,
   "metadata": {},
   "outputs": [
    {
     "data": {
      "text/plain": [
       "0.48"
      ]
     },
     "execution_count": 49,
     "metadata": {},
     "output_type": "execute_result"
    }
   ],
   "source": [
    "# Write your own code\n",
    "\n",
    "error_sqr = dataset['sample_error'] ** 2 \n",
    "error_sqr.mean()\n",
    "\n",
    "#or \"np.mean(error_sqr)\" also works\n"
   ]
  }
 ],
 "metadata": {
  "kernelspec": {
   "display_name": "base",
   "language": "python",
   "name": "python3"
  },
  "language_info": {
   "codemirror_mode": {
    "name": "ipython",
    "version": 3
   },
   "file_extension": ".py",
   "mimetype": "text/x-python",
   "name": "python",
   "nbconvert_exporter": "python",
   "pygments_lexer": "ipython3",
   "version": "3.12.7"
  },
  "orig_nbformat": 4,
  "vscode": {
   "interpreter": {
    "hash": "45fc1f684f6f416f40889115beff3ddf69879b64cf4bfee48cb72a61e9d15d1a"
   }
  }
 },
 "nbformat": 4,
 "nbformat_minor": 2
}
